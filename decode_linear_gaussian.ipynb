{
 "cells": [
  {
   "cell_type": "code",
   "execution_count": 1,
   "id": "6e6c3b4b",
   "metadata": {},
   "outputs": [],
   "source": [
    "import numpy as np\n",
    "import matplotlib.pyplot as plt\n",
    "from matplotlib import cm\n",
    "\n",
    "np.random.seed(12689)  # chosen by keyboard-mashing\n",
    "\n",
    "%matplotlib inline"
   ]
  },
  {
   "cell_type": "markdown",
   "id": "9f55bfe0",
   "metadata": {},
   "source": [
    "## Setup"
   ]
  },
  {
   "cell_type": "code",
   "execution_count": 2,
   "id": "6cfb5834",
   "metadata": {},
   "outputs": [],
   "source": [
    "n = 10  # number of neurons\n",
    "h, w = (5, 5) # size of image patch\n",
    "px = h*w # number of pixels\n",
    "A = np.random.randn(px, n)  # projective fields\n",
    "\n",
    "# Prior over x\n",
    "cov_p = np.eye(n) * 1.\n",
    "mu_p = np.zeros((n,))\n",
    "\n",
    "# Data-generating process\n",
    "cov_x = np.eye(px) * 1.\n",
    "\n",
    "# Data-generating process\n",
    "cov_eb = np.eye(px) * .1\n",
    "\n",
    "def sigmoid(z):\n",
    "    return 1/(1+np.exp(-z))\n",
    "\n",
    "\n",
    "# Experimenter model: template function and noise\n",
    "def T(s):\n",
    "    # Generate oriented grating in a circular mask\n",
    "    xx, yy = np.meshgrid(np.linspace(-1, 1, w), np.linspace(-1, 1, h))\n",
    "    rot_x = xx*np.cos(np.pi*s) + yy*np.sin(np.pi*s)\n",
    "    rr = np.sqrt(xx*xx + yy*yy)\n",
    "    mask = sigmoid(.75 - rr)\n",
    "    return mask * np.cos(rot_x * np.pi)\n",
    "\n",
    "\n",
    "def randpix(cov):\n",
    "    chol = np.linalg.cholesky(cov)\n",
    "    return chol @ np.random.randn(px)"
   ]
  },
  {
   "cell_type": "code",
   "execution_count": 3,
   "id": "bc5c6ec8",
   "metadata": {},
   "outputs": [
    {
     "data": {
      "image/png": "[encoded data removed]",
      "text/plain": [
       "<Figure size 432x288 with 8 Axes>"
      ]
     },
     "metadata": {},
     "output_type": "display_data"
    }
   ],
   "source": [
    "vrange = 1 + 2*np.sqrt(cov_eb[0,0])\n",
    "T_examples = [T(s) for s in np.linspace(0, 1, 9)]\n",
    "for i in range(8):\n",
    "    plt.subplot(2,4,i+1)\n",
    "    plt.imshow(T_examples[i], cmap='Greys', vmin=-vrange, vmax=vrange)\n",
    "    plt.xticks([]); plt.yticks([])\n",
    "plt.savefig('T_gratings.svg')\n",
    "plt.show()"
   ]
  },
  {
   "cell_type": "markdown",
   "id": "9d4b24de",
   "metadata": {},
   "source": [
    "## Decoder functions"
   ]
  },
  {
   "cell_type": "code",
   "execution_count": 4,
   "id": "345ea093",
   "metadata": {},
   "outputs": [],
   "source": [
    "def sample_posterior_x(im, n_samples=1):\n",
    "    cov_prime = np.linalg.inv(np.linalg.inv(cov_p) + A.T @ np.linalg.solve(cov_x, A))\n",
    "    mu_prime = cov_prime @ (np.linalg.solve(cov_p, mu_p) + A.T @ np.linalg.solve(cov_x, im))\n",
    "    chol_cov_prime = np.linalg.cholesky(cov_prime)\n",
    "    return mu_prime[None, :] + np.random.randn(n_samples, n) @ chol_cov_prime.T\n",
    "\n",
    "\n",
    "def ppc(s, t):\n",
    "    Ts = T(s).ravel() # T(s) as a vector\n",
    "    inv_cov_eb = np.linalg.inv(cov_eb)\n",
    "    inv_cov_x = np.linalg.inv(cov_x)\n",
    "    cov_prime = np.linalg.inv(np.linalg.inv(cov_p) + A.T @ inv_cov_x @ A)\n",
    "    mu_prime_prime = cov_prime @ (np.linalg.solve(cov_p, mu_p) + A.T @ inv_cov_x @ Ts)\n",
    "    #     print(\"mu_prime_prime\", mu_prime_prime.shape, mu_prime_prime)\n",
    "    cov_prime_prime = cov_prime/t + cov_prime @ A.T @ inv_cov_x @ cov_eb @ inv_cov_x @ A @ cov_prime\n",
    "    #     print(\"cov_prime_prime\", cov_prime_prime.shape, cov_prime_prime)\n",
    "    log_g = -0.5 * mu_prime_prime[None, :] @ np.linalg.solve(cov_prime_prime, mu_prime_prime[:, None])\n",
    "    #     print(\"log_g\", log_g.shape, log_g)\n",
    "    h = np.linalg.solve(cov_prime_prime, cov_prime) @ A.T @ np.linalg.solve(cov_x, Ts)\n",
    "    #     print(\"h\", h.shape, h)\n",
    "    return log_g, h.squeeze()\n",
    "\n",
    "\n",
    "def log_post_s(s_grid, x_samples):\n",
    "    t = len(x_samples)\n",
    "    x_bar = np.mean(x_samples, axis=0)\n",
    "    lps = np.zeros(s_grid.shape)\n",
    "    for i, s in enumerate(s_grid):\n",
    "        log_g, h = ppc(s, t)\n",
    "        lps[i] = log_g + np.sum(h * x_bar)\n",
    "    return lps\n",
    "\n",
    "\n",
    "def sabya_ppc(s, t):\n",
    "    Ts = T(s).ravel() # T(s) as a vector\n",
    "    inv_cov_eb = np.linalg.inv(cov_eb)\n",
    "    inv_cov_x = np.linalg.inv(cov_x)\n",
    "    inv_cov_prime = np.linalg.inv(cov_p) + A.T @ inv_cov_x @ A\n",
    "    B = np.linalg.solve(inv_cov_prime, A.T) @ inv_cov_x\n",
    "    inv_cov_1 = t * inv_cov_prime\n",
    "    inv_cov_2 = B.T @ inv_cov_1 @ B\n",
    "    inv_cov_3 = inv_cov_2 + inv_cov_eb\n",
    "    log_g = -1/2 * Ts[None, :] @ inv_cov_eb @ Ts[:, None] \\\n",
    "                + 1/2 * Ts[None, :] @ inv_cov_eb @ np.linalg.solve(inv_cov_3, inv_cov_eb) @ Ts[:, None] \\\n",
    "                - t * Ts[None, :] @ inv_cov_eb @ np.linalg.solve(inv_cov_3, B.T) @ np.linalg.solve(cov_p, mu_p)\n",
    "    h = Ts[None, :] @ inv_cov_eb @ np.linalg.solve(inv_cov_3, B.T) @ inv_cov_1\n",
    "    return log_g, h.squeeze()\n",
    "\n",
    "    \n",
    "def sabya_log_post_s(s_grid, x_samples):\n",
    "    x_bar = np.mean(x_samples, axis=0)\n",
    "    lps = np.zeros(s_grid.shape)\n",
    "    for i, s in enumerate(s_grid):\n",
    "        log_g, h = sabya_ppc(s, t)\n",
    "        lps[i] = log_g + np.sum(h * x_bar)\n",
    "    return lps\n",
    "\n",
    "\n",
    "def log2prob(log_p):\n",
    "    p = np.exp(log_p - np.max(log_p))\n",
    "    return p / np.sum(p)\n",
    "\n",
    "\n",
    "def log_prob_ideal_obesrver(s_grid, im, eps=0.):\n",
    "    lps = np.zeros(s_grid.shape)\n",
    "    im = np.reshape(im, (px, 1))\n",
    "    for i, s in enumerate(s_grid):\n",
    "        Ts = T(s).ravel()[:,None]\n",
    "        lps[i] = -0.5*(Ts - im).T @ np.linalg.solve(cov_eb + eps*np.eye(px), (Ts - im))\n",
    "    return lps"
   ]
  },
  {
   "cell_type": "markdown",
   "id": "0ecc86f8",
   "metadata": {},
   "source": [
    "## Run example"
   ]
  },
  {
   "cell_type": "code",
   "execution_count": 5,
   "id": "df7ecc58",
   "metadata": {},
   "outputs": [],
   "source": [
    "true_s = np.random.rand()\n",
    "im = T(true_s).ravel() + randpix(cov_eb)\n",
    "decode_t = [1, 5, 10]\n",
    "n_samples = max(decode_t)\n",
    "x_samples = sample_posterior_x(im, n_samples)\n",
    "ms_per_sample = 20"
   ]
  },
  {
   "cell_type": "code",
   "execution_count": 6,
   "id": "08238544",
   "metadata": {},
   "outputs": [
    {
     "data": {
      "image/png": "[encoded data removed]",
      "text/plain": [
       "<Figure size 432x144 with 3 Axes>"
      ]
     },
     "metadata": {
      "needs_background": "light"
     },
     "output_type": "display_data"
    }
   ],
   "source": [
    "s_grid = np.linspace(0, 1, 100)\n",
    "log_post_ideal = log_prob_ideal_obesrver(s_grid, im)\n",
    "\n",
    "plt.figure(figsize=(6,2))\n",
    "plt.subplot(1,3,1)\n",
    "plt.imshow(T(true_s), cmap='Greys', vmin=-vrange, vmax=+vrange)\n",
    "plt.xticks([]); plt.yticks([])\n",
    "plt.title('Template T')\n",
    "plt.subplot(1,3,2)\n",
    "plt.imshow(im.reshape(h,w), cmap='Greys', vmin=-vrange, vmax=+vrange)\n",
    "plt.xticks([]); plt.yticks([])\n",
    "plt.title('Image I')\n",
    "plt.subplot(1,3,3)\n",
    "plt.plot(s_grid, log2prob(log_post_ideal))\n",
    "plt.vlines([true_s], *plt.ylim(), linestyle='--', color='k')\n",
    "plt.yticks([])\n",
    "plt.title('ideal p(s|I)')\n",
    "plt.gcf().tight_layout()\n",
    "plt.savefig(f'T_and_I_{h}x{w}.svg')\n",
    "plt.show()"
   ]
  },
  {
   "cell_type": "markdown",
   "id": "2e6add85",
   "metadata": {},
   "source": [
    "### Plot samples"
   ]
  },
  {
   "cell_type": "code",
   "execution_count": 7,
   "id": "bd12a483",
   "metadata": {},
   "outputs": [
    {
     "data": {
      "image/png": "[encoded data removed]",
      "text/plain": [
       "<Figure size 432x288 with 1 Axes>"
      ]
     },
     "metadata": {
      "needs_background": "light"
     },
     "output_type": "display_data"
    }
   ],
   "source": [
    "spacing = 1.\n",
    "for i, t in enumerate(decode_t):\n",
    "    plt.plot([0, (t-.5)*ms_per_sample], [-(i+1)*spacing/3, -(i+1)*spacing/3], color=cm.plasma(i/len(decode_t)), linewidth=4)\n",
    "plt.plot(ms_per_sample*np.arange(n_samples), x_samples + np.arange(n)*spacing, \n",
    "         color=(.4,.4,.4))\n",
    "plt.xlabel('time (ms)')\n",
    "plt.ylabel('responses (r)')\n",
    "plt.yticks([])\n",
    "plt.savefig('responses.svg')\n",
    "plt.show()"
   ]
  },
  {
   "cell_type": "markdown",
   "id": "2d7a89ff",
   "metadata": {},
   "source": [
    "### Decode from samples"
   ]
  },
  {
   "cell_type": "code",
   "execution_count": 8,
   "id": "7ad7fbee",
   "metadata": {},
   "outputs": [],
   "source": [
    "log_post = {}\n",
    "sabya_log_post = {}\n",
    "for t in decode_t:\n",
    "    log_post[t] = log_post_s(s_grid, x_samples[:t, :])\n",
    "    sabya_log_post[t] = sabya_log_post_s(s_grid, x_samples[:t, :])"
   ]
  },
  {
   "cell_type": "code",
   "execution_count": 9,
   "id": "f20f1f5a",
   "metadata": {},
   "outputs": [
    {
     "data": {
      "image/png": "[encoded data removed]",
      "text/plain": [
       "<Figure size 288x216 with 1 Axes>"
      ]
     },
     "metadata": {
      "needs_background": "light"
     },
     "output_type": "display_data"
    }
   ],
   "source": [
    "plt.figure(figsize=(4,3))\n",
    "\n",
    "# plt.subplot(1,2,1)\n",
    "for i, (t, lps) in enumerate(log_post.items()):\n",
    "    plt.fill_between(s_grid, log2prob(lps), label=f't = {t}', color=cm.plasma(i/len(decode_t)), alpha=.5)\n",
    "plt.plot(s_grid, log2prob(log_post_ideal), '-k', label='ideal p(s|I)')\n",
    "plt.vlines([true_s], *plt.ylim(), linestyle='--', color='k', label='true s')\n",
    "plt.xlabel('s')\n",
    "plt.ylabel('decoded p(s|r)')\n",
    "plt.yticks([0])\n",
    "plt.legend(loc='best')\n",
    "plt.xlim([0,1])\n",
    "plt.ylim([0,None])\n",
    "\n",
    "# plt.subplot(1,2,2)\n",
    "# for t, lps in sabya_log_post.items():\n",
    "#     plt.fill_between(s_grid, log2prob(lps), color=cm.tab10(t/max(log_post.keys())), alpha=.5)\n",
    "# plt.plot(s_grid, log2prob(log_post_ideal), '-k')\n",
    "# plt.vlines([true_s], *plt.ylim(), linestyle='--', color='k')\n",
    "# plt.xlabel('s')\n",
    "# plt.ylabel('decoded p(s|r)')\n",
    "# plt.title('Sabya')\n",
    "# plt.yticks([])\n",
    "plt.gcf().tight_layout()\n",
    "plt.savefig('ppc_s_given_x.svg')\n",
    "plt.show()"
   ]
  }
 ],
 "metadata": {
  "kernelspec": {
   "display_name": "Python 3 (ipykernel)",
   "language": "python",
   "name": "python3"
  },
  "language_info": {
   "codemirror_mode": {
    "name": "ipython",
    "version": 3
   },
   "file_extension": ".py",
   "mimetype": "text/x-python",
   "name": "python",
   "nbconvert_exporter": "python",
   "pygments_lexer": "ipython3",
   "version": "3.9.10"
  }
 },
 "nbformat": 4,
 "nbformat_minor": 5
}
